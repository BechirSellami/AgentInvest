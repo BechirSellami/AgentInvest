{
 "cells": [
  {
   "cell_type": "code",
   "execution_count": null,
   "metadata": {},
   "outputs": [
    {
     "name": "stderr",
     "output_type": "stream",
     "text": [
      "HTTP Error 404: \n"
     ]
    },
    {
     "name": "stdout",
     "output_type": "stream",
     "text": [
      "Could not processticker: NASDAQ:GH\n"
     ]
    },
    {
     "name": "stderr",
     "output_type": "stream",
     "text": [
      "HTTP Error 404: \n"
     ]
    },
    {
     "name": "stdout",
     "output_type": "stream",
     "text": [
      "Could not processticker: NYSE:AI\n"
     ]
    },
    {
     "name": "stderr",
     "output_type": "stream",
     "text": [
      "HTTP Error 404: \n"
     ]
    },
    {
     "name": "stdout",
     "output_type": "stream",
     "text": [
      "Could not processticker: NASDAQ:CRWD\n"
     ]
    },
    {
     "name": "stderr",
     "output_type": "stream",
     "text": [
      "HTTP Error 404: \n"
     ]
    },
    {
     "name": "stdout",
     "output_type": "stream",
     "text": [
      "Could not processticker: LSE:DARK\n"
     ]
    },
    {
     "name": "stderr",
     "output_type": "stream",
     "text": [
      "HTTP Error 404: \n"
     ]
    },
    {
     "name": "stdout",
     "output_type": "stream",
     "text": [
      "Could not processticker: NASDAQ:DUOL\n"
     ]
    },
    {
     "name": "stderr",
     "output_type": "stream",
     "text": [
      "HTTP Error 404: \n"
     ]
    },
    {
     "name": "stdout",
     "output_type": "stream",
     "text": [
      "Could not processticker: NYSE:STEM\n"
     ]
    },
    {
     "name": "stderr",
     "output_type": "stream",
     "text": [
      "HTTP Error 404: \n"
     ]
    },
    {
     "name": "stdout",
     "output_type": "stream",
     "text": [
      "Could not processticker: NYSE:PLTR\n"
     ]
    },
    {
     "name": "stderr",
     "output_type": "stream",
     "text": [
      "HTTP Error 404: \n"
     ]
    },
    {
     "name": "stdout",
     "output_type": "stream",
     "text": [
      "Could not processticker: NYSE:PATH\n"
     ]
    },
    {
     "name": "stderr",
     "output_type": "stream",
     "text": [
      "HTTP Error 404: \n"
     ]
    },
    {
     "name": "stdout",
     "output_type": "stream",
     "text": [
      "Could not processticker: NASDAQ:VCYT\n"
     ]
    },
    {
     "name": "stderr",
     "output_type": "stream",
     "text": [
      "HTTP Error 404: \n"
     ]
    },
    {
     "name": "stdout",
     "output_type": "stream",
     "text": [
      "Could not processticker: NASDAQ:ENPH\n"
     ]
    },
    {
     "name": "stderr",
     "output_type": "stream",
     "text": [
      "HTTP Error 404: \n"
     ]
    }
   ],
   "source": [
    "#import openai, azure.search.documents as s\n",
    "from yfinance import Ticker\n",
    "import time \n",
    "#from azure.core.credentials import AzureKeyCredential\n",
    "\n",
    "#openai.api_key = \"AZURE_OPENAI_KEY\"\n",
    "#index_name = \"companies\"\n",
    "#client = s.SearchIndexClient(endpoint, cred)\n",
    "\n",
    "#def embed(txt):  # one-liner wrapper\n",
    "#    return openai.Embedding.create(engine=\"text-embedding-3-small\", input=txt)[\"data\"][0][\"embedding\"]\n",
    "\n",
    "def build_doc(ticker):\n",
    "    yf = Ticker(ticker)\n",
    "    info = yf.info\n",
    "    about = info.get(\"longBusinessSummary\", \"\")\n",
    "    prod  = \" \".join(about.split(\".\")[:2])  # crude product snippet\n",
    "\n",
    "    return {\n",
    "        \"ticker\": ticker,\n",
    "        \"name\": info[\"shortName\"],\n",
    "        \"sector\": info.get(\"sector\", \"Unknown\"),\n",
    "        \"country\": info.get(\"country\", \"Unknown\"),\n",
    "        \"ebitda_musd\": info.get(\"ebitda\", 0)/1e6,\n",
    "        \"rev_growth_pct\": info.get(\"revenueGrowth\", 0)*100,\n",
    "        \"market_cap_musd\": info.get(\"marketCap\", 0)/1e6,\n",
    "        \"share_price\": yf.history(\"1d\")[\"Close\"][-1],\n",
    "        \"ai_flag\": \"ai\" in about.lower(),\n",
    "        \"long_description\": about,\n",
    "        #\"long_descriptionVector\": embed(about),\n",
    "        \"product_summary\": prod,\n",
    "        #\"product_summaryVector\": embed(prod),\n",
    "        \"@search.action\": \"mergeOrUpload\"\n",
    "    }\n",
    "\n",
    "tickers = [\"NASDAQ:GH\", \"NYSE:AI\",\"NASDAQ:CRWD\",\"LSE:DARK\",\"NASDAQ:DUOL\",\"NYSE:STEM\",\"NYSE:PLTR\",\"NYSE:PATH\",\"NASDAQ:VCYT\",\"NASDAQ:ENPH\",\"NASDAQ:AFRM\",\"NYSE:VEEV\",\"NASDAQ:ISRG\",\"NYSE:BFLY\",\"NYSE:TDOC\",\"NYSE:IQV\",\"NYSE:SYK\",\"XTRA:SHL.DE\",\"NYSE:SNOW\",\"NASDAQ:DDOG\",\"NYSE:ESTC\",\"NYSE:AYX\",\"NYSE:NOW\",\"NYSE:CRM\",\"NYSE:NET\",\"NYSE:S\",\"NASDAQ:FTNT\",\"NYSE:CHPT\",\"NASDAQ:SHLS\",\"NASDAQ:WDAY\",\"NYSE:PATH\"]\n",
    "docs = []\n",
    "for t in tickers:\n",
    "    try:\n",
    "        docs.append(build_doc(t))\n",
    "        time.sleep(1)\n",
    "    except:\n",
    "        print(f\"Could not processticker: {t}\")\n",
    "        pass\n",
    "    \n",
    "#docs = [build_doc(\"MSFT\")]\n",
    "#uploader = s.SearchClient(endpoint, index_name, cred)\n",
    "#uploader.upload_documents(docs)\n"
   ]
  },
  {
   "cell_type": "code",
   "execution_count": 5,
   "metadata": {},
   "outputs": [],
   "source": [
    "from pprint import pprint"
   ]
  },
  {
   "cell_type": "code",
   "execution_count": 9,
   "metadata": {},
   "outputs": [
    {
     "data": {
      "text/plain": [
       "{'ticker': 'MSFT',\n",
       " 'name': 'Microsoft Corporation',\n",
       " 'sector': 'Technology',\n",
       " 'country': 'United States',\n",
       " 'ebitda_musd': 149172.994048,\n",
       " 'rev_growth_pct': 13.3,\n",
       " 'market_cap_musd': 3567359.09888,\n",
       " 'share_price': np.float64(479.9649963378906),\n",
       " 'ai_flag': True,\n",
       " 'long_description': 'Microsoft Corporation develops and supports software, services, devices and solutions worldwide. The Productivity and Business Processes segment offers office, exchange, SharePoint, Microsoft Teams, office 365 Security and Compliance, Microsoft viva, and Microsoft 365 copilot; and office consumer services, such as Microsoft 365 consumer subscriptions, Office licensed on-premises, and other office services. This segment also provides LinkedIn; and dynamics business solutions, including Dynamics 365, a set of intelligent, cloud-based applications across ERP, CRM, power apps, and power automate; and on-premises ERP and CRM applications. The Intelligent Cloud segment offers server products and cloud services, such as azure and other cloud services; SQL and windows server, visual studio, system center, and related client access licenses, as well as nuance and GitHub; and enterprise services including enterprise support services, industry solutions, and nuance professional services. The More Personal Computing segment offers Windows, including windows OEM licensing and other non-volume licensing of the Windows operating system; Windows commercial comprising volume licensing of the Windows operating system, windows cloud services, and other Windows commercial offerings; patent licensing; and windows Internet of Things; and devices, such as surface, HoloLens, and PC accessories. Additionally, this segment provides gaming, which includes Xbox hardware and content, and first- and third-party content; Xbox game pass and other subscriptions, cloud gaming, advertising, third-party disc royalties, and other cloud services; and search and news advertising, which includes Bing, Microsoft News and Edge, and third-party affiliates. The company sells its products through OEMs, distributors, and resellers; and directly through digital marketplaces, online, and retail stores. The company was founded in 1975 and is headquartered in Redmond, Washington.',\n",
       " 'product_summary': 'Microsoft Corporation develops and supports software, services, devices and solutions worldwide  The Productivity and Business Processes segment offers office, exchange, SharePoint, Microsoft Teams, office 365 Security and Compliance, Microsoft viva, and Microsoft 365 copilot; and office consumer services, such as Microsoft 365 consumer subscriptions, Office licensed on-premises, and other office services',\n",
       " '@search.action': 'mergeOrUpload'}"
      ]
     },
     "execution_count": 9,
     "metadata": {},
     "output_type": "execute_result"
    }
   ],
   "source": [
    "docs[0]"
   ]
  },
  {
   "cell_type": "code",
   "execution_count": 7,
   "metadata": {},
   "outputs": [
    {
     "name": "stdout",
     "output_type": "stream",
     "text": [
      "('Microsoft Corporation develops and supports software, services, devices and '\n",
      " 'solutions worldwide. The Productivity and Business Processes segment offers '\n",
      " 'office, exchange, SharePoint, Microsoft Teams, office 365 Security and '\n",
      " 'Compliance, Microsoft viva, and Microsoft 365 copilot; and office consumer '\n",
      " 'services, such as Microsoft 365 consumer subscriptions, Office licensed '\n",
      " 'on-premises, and other office services. This segment also provides LinkedIn; '\n",
      " 'and dynamics business solutions, including Dynamics 365, a set of '\n",
      " 'intelligent, cloud-based applications across ERP, CRM, power apps, and power '\n",
      " 'automate; and on-premises ERP and CRM applications. The Intelligent Cloud '\n",
      " 'segment offers server products and cloud services, such as azure and other '\n",
      " 'cloud services; SQL and windows server, visual studio, system center, and '\n",
      " 'related client access licenses, as well as nuance and GitHub; and enterprise '\n",
      " 'services including enterprise support services, industry solutions, and '\n",
      " 'nuance professional services. The More Personal Computing segment offers '\n",
      " 'Windows, including windows OEM licensing and other non-volume licensing of '\n",
      " 'the Windows operating system; Windows commercial comprising volume licensing '\n",
      " 'of the Windows operating system, windows cloud services, and other Windows '\n",
      " 'commercial offerings; patent licensing; and windows Internet of Things; and '\n",
      " 'devices, such as surface, HoloLens, and PC accessories. Additionally, this '\n",
      " 'segment provides gaming, which includes Xbox hardware and content, and '\n",
      " 'first- and third-party content; Xbox game pass and other subscriptions, '\n",
      " 'cloud gaming, advertising, third-party disc royalties, and other cloud '\n",
      " 'services; and search and news advertising, which includes Bing, Microsoft '\n",
      " 'News and Edge, and third-party affiliates. The company sells its products '\n",
      " 'through OEMs, distributors, and resellers; and directly through digital '\n",
      " 'marketplaces, online, and retail stores. The company was founded in 1975 and '\n",
      " 'is headquartered in Redmond, Washington.')\n"
     ]
    }
   ],
   "source": [
    "pprint(docs[0]['long_description'])"
   ]
  },
  {
   "cell_type": "code",
   "execution_count": null,
   "metadata": {},
   "outputs": [],
   "source": []
  }
 ],
 "metadata": {
  "kernelspec": {
   "display_name": "Python (investor-app)",
   "language": "python",
   "name": "investor-app"
  },
  "language_info": {
   "codemirror_mode": {
    "name": "ipython",
    "version": 3
   },
   "file_extension": ".py",
   "mimetype": "text/x-python",
   "name": "python",
   "nbconvert_exporter": "python",
   "pygments_lexer": "ipython3",
   "version": "3.12.11"
  }
 },
 "nbformat": 4,
 "nbformat_minor": 2
}
